{
 "cells": [
  {
   "cell_type": "markdown",
   "metadata": {},
   "source": [
    "# Medicine Recommendation System"
   ]
  },
  {
   "cell_type": "markdown",
   "metadata": {},
   "source": [
    "This recommendation system is supposed to recommend any medicine/drug on the basis of the search result. The main aim is to recommend any alternative/substitute to be used in place of the searched medicine."
   ]
  },
  {
   "cell_type": "code",
   "execution_count": 1,
   "metadata": {
    "_cell_guid": "b1076dfc-b9ad-4769-8c92-a6c4dae69d19",
    "_uuid": "8f2839f25d086af736a60e9eeb907d3b93b6e0e5",
    "execution": {
     "iopub.execute_input": "2022-05-26T15:21:29.887653Z",
     "iopub.status.busy": "2022-05-26T15:21:29.887162Z",
     "iopub.status.idle": "2022-05-26T15:21:29.923894Z",
     "shell.execute_reply": "2022-05-26T15:21:29.923084Z",
     "shell.execute_reply.started": "2022-05-26T15:21:29.887562Z"
    }
   },
   "outputs": [],
   "source": [
    "import numpy as np \n",
    "import pandas as pd \n",
    "import warnings\n",
    "warnings.filterwarnings(\"ignore\")"
   ]
  },
  {
   "cell_type": "code",
   "execution_count": 2,
   "metadata": {
    "execution": {
     "iopub.execute_input": "2022-05-26T15:22:10.370195Z",
     "iopub.status.busy": "2022-05-26T15:22:10.369768Z",
     "iopub.status.idle": "2022-05-26T15:22:10.423042Z",
     "shell.execute_reply": "2022-05-26T15:22:10.422102Z",
     "shell.execute_reply.started": "2022-05-26T15:22:10.370167Z"
    }
   },
   "outputs": [],
   "source": [
    "medicines = pd.read_csv('medicine.csv')"
   ]
  },
  {
   "cell_type": "code",
   "execution_count": 3,
   "metadata": {
    "execution": {
     "iopub.execute_input": "2022-05-26T15:22:17.329081Z",
     "iopub.status.busy": "2022-05-26T15:22:17.328665Z",
     "iopub.status.idle": "2022-05-26T15:22:17.352018Z",
     "shell.execute_reply": "2022-05-26T15:22:17.350989Z",
     "shell.execute_reply.started": "2022-05-26T15:22:17.329047Z"
    }
   },
   "outputs": [
    {
     "data": {
      "text/html": [
       "<div>\n",
       "<style scoped>\n",
       "    .dataframe tbody tr th:only-of-type {\n",
       "        vertical-align: middle;\n",
       "    }\n",
       "\n",
       "    .dataframe tbody tr th {\n",
       "        vertical-align: top;\n",
       "    }\n",
       "\n",
       "    .dataframe thead th {\n",
       "        text-align: right;\n",
       "    }\n",
       "</style>\n",
       "<table border=\"1\" class=\"dataframe\">\n",
       "  <thead>\n",
       "    <tr style=\"text-align: right;\">\n",
       "      <th></th>\n",
       "      <th>index</th>\n",
       "      <th>Drug_Name</th>\n",
       "      <th>Reason</th>\n",
       "      <th>Description</th>\n",
       "    </tr>\n",
       "  </thead>\n",
       "  <tbody>\n",
       "    <tr>\n",
       "      <th>0</th>\n",
       "      <td>1</td>\n",
       "      <td>A CN Gel(Topical) 20gmA CN Soap 75gm</td>\n",
       "      <td>Acne</td>\n",
       "      <td>Mild to moderate acne (spots)</td>\n",
       "    </tr>\n",
       "    <tr>\n",
       "      <th>1</th>\n",
       "      <td>2</td>\n",
       "      <td>A Ret 0.05% Gel 20gmA Ret 0.1% Gel 20gmA Ret 0...</td>\n",
       "      <td>Acne</td>\n",
       "      <td>A RET 0.025% is a prescription medicine that i...</td>\n",
       "    </tr>\n",
       "    <tr>\n",
       "      <th>2</th>\n",
       "      <td>3</td>\n",
       "      <td>ACGEL CL NANO Gel 15gm</td>\n",
       "      <td>Acne</td>\n",
       "      <td>It is used to treat acne vulgaris in people 12...</td>\n",
       "    </tr>\n",
       "    <tr>\n",
       "      <th>3</th>\n",
       "      <td>4</td>\n",
       "      <td>ACGEL NANO Gel 15gm</td>\n",
       "      <td>Acne</td>\n",
       "      <td>It is used to treat acne vulgaris in people 12...</td>\n",
       "    </tr>\n",
       "    <tr>\n",
       "      <th>4</th>\n",
       "      <td>5</td>\n",
       "      <td>Acleen 1% Lotion 25ml</td>\n",
       "      <td>Acne</td>\n",
       "      <td>treat the most severe form of acne (nodular ac...</td>\n",
       "    </tr>\n",
       "  </tbody>\n",
       "</table>\n",
       "</div>"
      ],
      "text/plain": [
       "   index                                          Drug_Name Reason  \\\n",
       "0      1               A CN Gel(Topical) 20gmA CN Soap 75gm   Acne   \n",
       "1      2  A Ret 0.05% Gel 20gmA Ret 0.1% Gel 20gmA Ret 0...   Acne   \n",
       "2      3                             ACGEL CL NANO Gel 15gm   Acne   \n",
       "3      4                                ACGEL NANO Gel 15gm   Acne   \n",
       "4      5                              Acleen 1% Lotion 25ml   Acne   \n",
       "\n",
       "                                         Description  \n",
       "0                      Mild to moderate acne (spots)  \n",
       "1  A RET 0.025% is a prescription medicine that i...  \n",
       "2  It is used to treat acne vulgaris in people 12...  \n",
       "3  It is used to treat acne vulgaris in people 12...  \n",
       "4  treat the most severe form of acne (nodular ac...  "
      ]
     },
     "execution_count": 3,
     "metadata": {},
     "output_type": "execute_result"
    }
   ],
   "source": [
    "medicines.head()"
   ]
  },
  {
   "cell_type": "code",
   "execution_count": 4,
   "metadata": {
    "execution": {
     "iopub.execute_input": "2022-05-26T15:22:24.310198Z",
     "iopub.status.busy": "2022-05-26T15:22:24.309304Z",
     "iopub.status.idle": "2022-05-26T15:22:24.316390Z",
     "shell.execute_reply": "2022-05-26T15:22:24.315341Z",
     "shell.execute_reply.started": "2022-05-26T15:22:24.310152Z"
    }
   },
   "outputs": [
    {
     "data": {
      "text/plain": [
       "(9720, 4)"
      ]
     },
     "execution_count": 4,
     "metadata": {},
     "output_type": "execute_result"
    }
   ],
   "source": [
    "medicines.shape"
   ]
  },
  {
   "cell_type": "code",
   "execution_count": 5,
   "metadata": {
    "execution": {
     "iopub.execute_input": "2022-05-26T15:22:30.317290Z",
     "iopub.status.busy": "2022-05-26T15:22:30.316922Z",
     "iopub.status.idle": "2022-05-26T15:22:30.330892Z",
     "shell.execute_reply": "2022-05-26T15:22:30.329902Z",
     "shell.execute_reply.started": "2022-05-26T15:22:30.317261Z"
    }
   },
   "outputs": [
    {
     "data": {
      "text/plain": [
       "index          0\n",
       "Drug_Name      0\n",
       "Reason         0\n",
       "Description    0\n",
       "dtype: int64"
      ]
     },
     "execution_count": 5,
     "metadata": {},
     "output_type": "execute_result"
    }
   ],
   "source": [
    "medicines.isnull().sum()"
   ]
  },
  {
   "cell_type": "code",
   "execution_count": 6,
   "metadata": {
    "execution": {
     "iopub.execute_input": "2022-05-26T15:27:45.781805Z",
     "iopub.status.busy": "2022-05-26T15:27:45.781384Z",
     "iopub.status.idle": "2022-05-26T15:27:45.801395Z",
     "shell.execute_reply": "2022-05-26T15:27:45.800506Z",
     "shell.execute_reply.started": "2022-05-26T15:27:45.781772Z"
    }
   },
   "outputs": [
    {
     "data": {
      "text/plain": [
       "0"
      ]
     },
     "execution_count": 6,
     "metadata": {},
     "output_type": "execute_result"
    }
   ],
   "source": [
    "medicines.duplicated().sum()"
   ]
  },
  {
   "cell_type": "code",
   "execution_count": 7,
   "metadata": {
    "execution": {
     "iopub.execute_input": "2022-05-26T15:27:52.263507Z",
     "iopub.status.busy": "2022-05-26T15:27:52.263107Z",
     "iopub.status.idle": "2022-05-26T15:27:52.271658Z",
     "shell.execute_reply": "2022-05-26T15:27:52.270787Z",
     "shell.execute_reply.started": "2022-05-26T15:27:52.263462Z"
    }
   },
   "outputs": [
    {
     "data": {
      "text/plain": [
       "0                           Mild to moderate acne (spots)\n",
       "1       A RET 0.025% is a prescription medicine that i...\n",
       "2       It is used to treat acne vulgaris in people 12...\n",
       "3       It is used to treat acne vulgaris in people 12...\n",
       "4       treat the most severe form of acne (nodular ac...\n",
       "                              ...                        \n",
       "9715                              used for treating warts\n",
       "9716                        used to soften the skin cells\n",
       "9717                                       used for scars\n",
       "9718                                      used for wounds\n",
       "9719    used to treat and remove raised warts (usually...\n",
       "Name: Description, Length: 9720, dtype: object"
      ]
     },
     "execution_count": 7,
     "metadata": {},
     "output_type": "execute_result"
    }
   ],
   "source": [
    "medicines['Description']"
   ]
  },
  {
   "cell_type": "code",
   "execution_count": 8,
   "metadata": {
    "execution": {
     "iopub.execute_input": "2022-05-26T15:27:59.454448Z",
     "iopub.status.busy": "2022-05-26T15:27:59.453961Z",
     "iopub.status.idle": "2022-05-26T15:27:59.484759Z",
     "shell.execute_reply": "2022-05-26T15:27:59.483653Z",
     "shell.execute_reply.started": "2022-05-26T15:27:59.454413Z"
    }
   },
   "outputs": [
    {
     "data": {
      "text/plain": [
       "0                     [Mild, to, moderate, acne, (spots)]\n",
       "1       [A, RET, 0.025%, is, a, prescription, medicine...\n",
       "2       [It, is, used, to, treat, acne, vulgaris, in, ...\n",
       "3       [It, is, used, to, treat, acne, vulgaris, in, ...\n",
       "4       [treat, the, most, severe, form, of, acne, (no...\n",
       "                              ...                        \n",
       "9715                         [used, for, treating, warts]\n",
       "9716                 [used, to, soften, the, skin, cells]\n",
       "9717                                   [used, for, scars]\n",
       "9718                                  [used, for, wounds]\n",
       "9719    [used, to, treat, and, remove, raised, warts, ...\n",
       "Name: Description, Length: 9720, dtype: object"
      ]
     },
     "execution_count": 8,
     "metadata": {},
     "output_type": "execute_result"
    }
   ],
   "source": [
    "medicines['Description'].apply(lambda x:x.split())"
   ]
  },
  {
   "cell_type": "code",
   "execution_count": 9,
   "metadata": {
    "execution": {
     "iopub.execute_input": "2022-05-26T15:28:05.937681Z",
     "iopub.status.busy": "2022-05-26T15:28:05.937209Z",
     "iopub.status.idle": "2022-05-26T15:28:05.968340Z",
     "shell.execute_reply": "2022-05-26T15:28:05.967586Z",
     "shell.execute_reply.started": "2022-05-26T15:28:05.937648Z"
    }
   },
   "outputs": [
    {
     "name": "stdout",
     "output_type": "stream",
     "text": [
      "0        [Acne]\n",
      "1        [Acne]\n",
      "2        [Acne]\n",
      "3        [Acne]\n",
      "4        [Acne]\n",
      "         ...   \n",
      "9715    [Wound]\n",
      "9716    [Wound]\n",
      "9717    [Wound]\n",
      "9718    [Wound]\n",
      "9719    [Wound]\n",
      "Name: Reason, Length: 9720, dtype: object\n",
      "0                     [Mild, to, moderate, acne, (spots)]\n",
      "1       [A, RET, 0.025%, is, a, prescription, medicine...\n",
      "2       [It, is, used, to, treat, acne, vulgaris, in, ...\n",
      "3       [It, is, used, to, treat, acne, vulgaris, in, ...\n",
      "4       [treat, the, most, severe, form, of, acne, (no...\n",
      "                              ...                        \n",
      "9715                         [used, for, treating, warts]\n",
      "9716                 [used, to, soften, the, skin, cells]\n",
      "9717                                   [used, for, scars]\n",
      "9718                                  [used, for, wounds]\n",
      "9719    [used, to, treat, and, remove, raised, warts, ...\n",
      "Name: Description, Length: 9720, dtype: object\n"
     ]
    }
   ],
   "source": [
    "medicines['Reason'] = medicines['Reason'].apply(lambda x:x.split())\n",
    "medicines['Description'] = medicines['Description'].apply(lambda x:x.split())\n",
    "print(medicines['Reason'])\n",
    "print(medicines['Description'])"
   ]
  },
  {
   "cell_type": "code",
   "execution_count": 10,
   "metadata": {
    "execution": {
     "iopub.execute_input": "2022-05-26T15:28:11.782091Z",
     "iopub.status.busy": "2022-05-26T15:28:11.781739Z",
     "iopub.status.idle": "2022-05-26T15:28:11.919044Z",
     "shell.execute_reply": "2022-05-26T15:28:11.918271Z",
     "shell.execute_reply.started": "2022-05-26T15:28:11.782064Z"
    }
   },
   "outputs": [
    {
     "name": "stdout",
     "output_type": "stream",
     "text": [
      "0                     [Mild, to, moderate, acne, (spots)]\n",
      "1       [A, RET, 0.025%, is, a, prescription, medicine...\n",
      "2       [It, is, used, to, treat, acne, vulgaris, in, ...\n",
      "3       [It, is, used, to, treat, acne, vulgaris, in, ...\n",
      "4       [treat, the, most, severe, form, of, acne, (no...\n",
      "                              ...                        \n",
      "9715                         [used, for, treating, warts]\n",
      "9716                 [used, to, soften, the, skin, cells]\n",
      "9717                                   [used, for, scars]\n",
      "9718                                  [used, for, wounds]\n",
      "9719    [used, to, treat, and, remove, raised, warts, ...\n",
      "Name: Description, Length: 9720, dtype: object\n"
     ]
    }
   ],
   "source": [
    "medicines['Description'] = medicines['Description'].apply(lambda x:[i.replace(\" \",\"\") for i in x])\n",
    "print(medicines['Description'])\n"
   ]
  },
  {
   "cell_type": "code",
   "execution_count": 11,
   "metadata": {
    "execution": {
     "iopub.execute_input": "2022-05-26T15:28:23.480397Z",
     "iopub.status.busy": "2022-05-26T15:28:23.479888Z",
     "iopub.status.idle": "2022-05-26T15:28:23.492088Z",
     "shell.execute_reply": "2022-05-26T15:28:23.491297Z",
     "shell.execute_reply.started": "2022-05-26T15:28:23.480365Z"
    }
   },
   "outputs": [
    {
     "name": "stdout",
     "output_type": "stream",
     "text": [
      "0               [Mild, to, moderate, acne, (spots), Acne]\n",
      "1       [A, RET, 0.025%, is, a, prescription, medicine...\n",
      "2       [It, is, used, to, treat, acne, vulgaris, in, ...\n",
      "3       [It, is, used, to, treat, acne, vulgaris, in, ...\n",
      "4       [treat, the, most, severe, form, of, acne, (no...\n",
      "                              ...                        \n",
      "9715                  [used, for, treating, warts, Wound]\n",
      "9716          [used, to, soften, the, skin, cells, Wound]\n",
      "9717                            [used, for, scars, Wound]\n",
      "9718                           [used, for, wounds, Wound]\n",
      "9719    [used, to, treat, and, remove, raised, warts, ...\n",
      "Name: tags, Length: 9720, dtype: object\n"
     ]
    }
   ],
   "source": [
    "medicines['tags'] = medicines['Description'] + medicines['Reason'] \n",
    "print(medicines['tags'])\n"
   ]
  },
  {
   "cell_type": "code",
   "execution_count": 12,
   "metadata": {
    "execution": {
     "iopub.execute_input": "2022-05-26T15:28:29.352803Z",
     "iopub.status.busy": "2022-05-26T15:28:29.352375Z",
     "iopub.status.idle": "2022-05-26T15:28:29.360610Z",
     "shell.execute_reply": "2022-05-26T15:28:29.359860Z",
     "shell.execute_reply.started": "2022-05-26T15:28:29.352771Z"
    }
   },
   "outputs": [],
   "source": [
    "new_df = medicines[['index','Drug_Name','tags']]"
   ]
  },
  {
   "cell_type": "code",
   "execution_count": 13,
   "metadata": {
    "execution": {
     "iopub.execute_input": "2022-05-26T15:28:34.878349Z",
     "iopub.status.busy": "2022-05-26T15:28:34.877949Z",
     "iopub.status.idle": "2022-05-26T15:28:34.895458Z",
     "shell.execute_reply": "2022-05-26T15:28:34.894661Z",
     "shell.execute_reply.started": "2022-05-26T15:28:34.878317Z"
    }
   },
   "outputs": [
    {
     "data": {
      "text/html": [
       "<div>\n",
       "<style scoped>\n",
       "    .dataframe tbody tr th:only-of-type {\n",
       "        vertical-align: middle;\n",
       "    }\n",
       "\n",
       "    .dataframe tbody tr th {\n",
       "        vertical-align: top;\n",
       "    }\n",
       "\n",
       "    .dataframe thead th {\n",
       "        text-align: right;\n",
       "    }\n",
       "</style>\n",
       "<table border=\"1\" class=\"dataframe\">\n",
       "  <thead>\n",
       "    <tr style=\"text-align: right;\">\n",
       "      <th></th>\n",
       "      <th>index</th>\n",
       "      <th>Drug_Name</th>\n",
       "      <th>tags</th>\n",
       "    </tr>\n",
       "  </thead>\n",
       "  <tbody>\n",
       "    <tr>\n",
       "      <th>0</th>\n",
       "      <td>1</td>\n",
       "      <td>A CN Gel(Topical) 20gmA CN Soap 75gm</td>\n",
       "      <td>[Mild, to, moderate, acne, (spots), Acne]</td>\n",
       "    </tr>\n",
       "    <tr>\n",
       "      <th>1</th>\n",
       "      <td>2</td>\n",
       "      <td>A Ret 0.05% Gel 20gmA Ret 0.1% Gel 20gmA Ret 0...</td>\n",
       "      <td>[A, RET, 0.025%, is, a, prescription, medicine...</td>\n",
       "    </tr>\n",
       "    <tr>\n",
       "      <th>2</th>\n",
       "      <td>3</td>\n",
       "      <td>ACGEL CL NANO Gel 15gm</td>\n",
       "      <td>[It, is, used, to, treat, acne, vulgaris, in, ...</td>\n",
       "    </tr>\n",
       "    <tr>\n",
       "      <th>3</th>\n",
       "      <td>4</td>\n",
       "      <td>ACGEL NANO Gel 15gm</td>\n",
       "      <td>[It, is, used, to, treat, acne, vulgaris, in, ...</td>\n",
       "    </tr>\n",
       "    <tr>\n",
       "      <th>4</th>\n",
       "      <td>5</td>\n",
       "      <td>Acleen 1% Lotion 25ml</td>\n",
       "      <td>[treat, the, most, severe, form, of, acne, (no...</td>\n",
       "    </tr>\n",
       "    <tr>\n",
       "      <th>...</th>\n",
       "      <td>...</td>\n",
       "      <td>...</td>\n",
       "      <td>...</td>\n",
       "    </tr>\n",
       "    <tr>\n",
       "      <th>9715</th>\n",
       "      <td>9716</td>\n",
       "      <td>T Muce Ointment 5gm</td>\n",
       "      <td>[used, for, treating, warts, Wound]</td>\n",
       "    </tr>\n",
       "    <tr>\n",
       "      <th>9716</th>\n",
       "      <td>9717</td>\n",
       "      <td>Wokadine 10% Solution 100mlWokadine Solution 5...</td>\n",
       "      <td>[used, to, soften, the, skin, cells, Wound]</td>\n",
       "    </tr>\n",
       "    <tr>\n",
       "      <th>9717</th>\n",
       "      <td>9718</td>\n",
       "      <td>Wokadine M Onit 10gm</td>\n",
       "      <td>[used, for, scars, Wound]</td>\n",
       "    </tr>\n",
       "    <tr>\n",
       "      <th>9718</th>\n",
       "      <td>9719</td>\n",
       "      <td>Wound Fix Solution 100ml</td>\n",
       "      <td>[used, for, wounds, Wound]</td>\n",
       "    </tr>\n",
       "    <tr>\n",
       "      <th>9719</th>\n",
       "      <td>9720</td>\n",
       "      <td>Wounsol Ointment 15gm</td>\n",
       "      <td>[used, to, treat, and, remove, raised, warts, ...</td>\n",
       "    </tr>\n",
       "  </tbody>\n",
       "</table>\n",
       "<p>9720 rows × 3 columns</p>\n",
       "</div>"
      ],
      "text/plain": [
       "      index                                          Drug_Name  \\\n",
       "0         1               A CN Gel(Topical) 20gmA CN Soap 75gm   \n",
       "1         2  A Ret 0.05% Gel 20gmA Ret 0.1% Gel 20gmA Ret 0...   \n",
       "2         3                             ACGEL CL NANO Gel 15gm   \n",
       "3         4                                ACGEL NANO Gel 15gm   \n",
       "4         5                              Acleen 1% Lotion 25ml   \n",
       "...     ...                                                ...   \n",
       "9715   9716                                T Muce Ointment 5gm   \n",
       "9716   9717  Wokadine 10% Solution 100mlWokadine Solution 5...   \n",
       "9717   9718                               Wokadine M Onit 10gm   \n",
       "9718   9719                           Wound Fix Solution 100ml   \n",
       "9719   9720                              Wounsol Ointment 15gm   \n",
       "\n",
       "                                                   tags  \n",
       "0             [Mild, to, moderate, acne, (spots), Acne]  \n",
       "1     [A, RET, 0.025%, is, a, prescription, medicine...  \n",
       "2     [It, is, used, to, treat, acne, vulgaris, in, ...  \n",
       "3     [It, is, used, to, treat, acne, vulgaris, in, ...  \n",
       "4     [treat, the, most, severe, form, of, acne, (no...  \n",
       "...                                                 ...  \n",
       "9715                [used, for, treating, warts, Wound]  \n",
       "9716        [used, to, soften, the, skin, cells, Wound]  \n",
       "9717                          [used, for, scars, Wound]  \n",
       "9718                         [used, for, wounds, Wound]  \n",
       "9719  [used, to, treat, and, remove, raised, warts, ...  \n",
       "\n",
       "[9720 rows x 3 columns]"
      ]
     },
     "execution_count": 13,
     "metadata": {},
     "output_type": "execute_result"
    }
   ],
   "source": [
    "new_df"
   ]
  },
  {
   "cell_type": "code",
   "execution_count": 14,
   "metadata": {
    "execution": {
     "iopub.execute_input": "2022-05-26T15:28:40.536622Z",
     "iopub.status.busy": "2022-05-26T15:28:40.536242Z",
     "iopub.status.idle": "2022-05-26T15:28:40.555686Z",
     "shell.execute_reply": "2022-05-26T15:28:40.554737Z",
     "shell.execute_reply.started": "2022-05-26T15:28:40.536592Z"
    }
   },
   "outputs": [
    {
     "data": {
      "text/plain": [
       "0                      Mild to moderate acne (spots) Acne\n",
       "1       A RET 0.025% is a prescription medicine that i...\n",
       "2       It is used to treat acne vulgaris in people 12...\n",
       "3       It is used to treat acne vulgaris in people 12...\n",
       "4       treat the most severe form of acne (nodular ac...\n",
       "                              ...                        \n",
       "9715                        used for treating warts Wound\n",
       "9716                  used to soften the skin cells Wound\n",
       "9717                                 used for scars Wound\n",
       "9718                                used for wounds Wound\n",
       "9719    used to treat and remove raised warts (usually...\n",
       "Name: tags, Length: 9720, dtype: object"
      ]
     },
     "execution_count": 14,
     "metadata": {},
     "output_type": "execute_result"
    }
   ],
   "source": [
    "new_df['tags'].apply(lambda x:\" \".join(x))"
   ]
  },
  {
   "cell_type": "code",
   "execution_count": 15,
   "metadata": {
    "execution": {
     "iopub.execute_input": "2022-05-26T15:28:45.841708Z",
     "iopub.status.busy": "2022-05-26T15:28:45.841331Z",
     "iopub.status.idle": "2022-05-26T15:28:45.860869Z",
     "shell.execute_reply": "2022-05-26T15:28:45.859984Z",
     "shell.execute_reply.started": "2022-05-26T15:28:45.841677Z"
    }
   },
   "outputs": [
    {
     "data": {
      "text/html": [
       "<div>\n",
       "<style scoped>\n",
       "    .dataframe tbody tr th:only-of-type {\n",
       "        vertical-align: middle;\n",
       "    }\n",
       "\n",
       "    .dataframe tbody tr th {\n",
       "        vertical-align: top;\n",
       "    }\n",
       "\n",
       "    .dataframe thead th {\n",
       "        text-align: right;\n",
       "    }\n",
       "</style>\n",
       "<table border=\"1\" class=\"dataframe\">\n",
       "  <thead>\n",
       "    <tr style=\"text-align: right;\">\n",
       "      <th></th>\n",
       "      <th>index</th>\n",
       "      <th>Drug_Name</th>\n",
       "      <th>tags</th>\n",
       "    </tr>\n",
       "  </thead>\n",
       "  <tbody>\n",
       "    <tr>\n",
       "      <th>0</th>\n",
       "      <td>1</td>\n",
       "      <td>A CN Gel(Topical) 20gmA CN Soap 75gm</td>\n",
       "      <td>[Mild, to, moderate, acne, (spots), Acne]</td>\n",
       "    </tr>\n",
       "    <tr>\n",
       "      <th>1</th>\n",
       "      <td>2</td>\n",
       "      <td>A Ret 0.05% Gel 20gmA Ret 0.1% Gel 20gmA Ret 0...</td>\n",
       "      <td>[A, RET, 0.025%, is, a, prescription, medicine...</td>\n",
       "    </tr>\n",
       "    <tr>\n",
       "      <th>2</th>\n",
       "      <td>3</td>\n",
       "      <td>ACGEL CL NANO Gel 15gm</td>\n",
       "      <td>[It, is, used, to, treat, acne, vulgaris, in, ...</td>\n",
       "    </tr>\n",
       "    <tr>\n",
       "      <th>3</th>\n",
       "      <td>4</td>\n",
       "      <td>ACGEL NANO Gel 15gm</td>\n",
       "      <td>[It, is, used, to, treat, acne, vulgaris, in, ...</td>\n",
       "    </tr>\n",
       "    <tr>\n",
       "      <th>4</th>\n",
       "      <td>5</td>\n",
       "      <td>Acleen 1% Lotion 25ml</td>\n",
       "      <td>[treat, the, most, severe, form, of, acne, (no...</td>\n",
       "    </tr>\n",
       "    <tr>\n",
       "      <th>...</th>\n",
       "      <td>...</td>\n",
       "      <td>...</td>\n",
       "      <td>...</td>\n",
       "    </tr>\n",
       "    <tr>\n",
       "      <th>9715</th>\n",
       "      <td>9716</td>\n",
       "      <td>T Muce Ointment 5gm</td>\n",
       "      <td>[used, for, treating, warts, Wound]</td>\n",
       "    </tr>\n",
       "    <tr>\n",
       "      <th>9716</th>\n",
       "      <td>9717</td>\n",
       "      <td>Wokadine 10% Solution 100mlWokadine Solution 5...</td>\n",
       "      <td>[used, to, soften, the, skin, cells, Wound]</td>\n",
       "    </tr>\n",
       "    <tr>\n",
       "      <th>9717</th>\n",
       "      <td>9718</td>\n",
       "      <td>Wokadine M Onit 10gm</td>\n",
       "      <td>[used, for, scars, Wound]</td>\n",
       "    </tr>\n",
       "    <tr>\n",
       "      <th>9718</th>\n",
       "      <td>9719</td>\n",
       "      <td>Wound Fix Solution 100ml</td>\n",
       "      <td>[used, for, wounds, Wound]</td>\n",
       "    </tr>\n",
       "    <tr>\n",
       "      <th>9719</th>\n",
       "      <td>9720</td>\n",
       "      <td>Wounsol Ointment 15gm</td>\n",
       "      <td>[used, to, treat, and, remove, raised, warts, ...</td>\n",
       "    </tr>\n",
       "  </tbody>\n",
       "</table>\n",
       "<p>9720 rows × 3 columns</p>\n",
       "</div>"
      ],
      "text/plain": [
       "      index                                          Drug_Name  \\\n",
       "0         1               A CN Gel(Topical) 20gmA CN Soap 75gm   \n",
       "1         2  A Ret 0.05% Gel 20gmA Ret 0.1% Gel 20gmA Ret 0...   \n",
       "2         3                             ACGEL CL NANO Gel 15gm   \n",
       "3         4                                ACGEL NANO Gel 15gm   \n",
       "4         5                              Acleen 1% Lotion 25ml   \n",
       "...     ...                                                ...   \n",
       "9715   9716                                T Muce Ointment 5gm   \n",
       "9716   9717  Wokadine 10% Solution 100mlWokadine Solution 5...   \n",
       "9717   9718                               Wokadine M Onit 10gm   \n",
       "9718   9719                           Wound Fix Solution 100ml   \n",
       "9719   9720                              Wounsol Ointment 15gm   \n",
       "\n",
       "                                                   tags  \n",
       "0             [Mild, to, moderate, acne, (spots), Acne]  \n",
       "1     [A, RET, 0.025%, is, a, prescription, medicine...  \n",
       "2     [It, is, used, to, treat, acne, vulgaris, in, ...  \n",
       "3     [It, is, used, to, treat, acne, vulgaris, in, ...  \n",
       "4     [treat, the, most, severe, form, of, acne, (no...  \n",
       "...                                                 ...  \n",
       "9715                [used, for, treating, warts, Wound]  \n",
       "9716        [used, to, soften, the, skin, cells, Wound]  \n",
       "9717                          [used, for, scars, Wound]  \n",
       "9718                         [used, for, wounds, Wound]  \n",
       "9719  [used, to, treat, and, remove, raised, warts, ...  \n",
       "\n",
       "[9720 rows x 3 columns]"
      ]
     },
     "execution_count": 15,
     "metadata": {},
     "output_type": "execute_result"
    }
   ],
   "source": [
    "new_df"
   ]
  },
  {
   "cell_type": "code",
   "execution_count": 16,
   "metadata": {
    "execution": {
     "iopub.execute_input": "2022-05-26T15:28:53.401750Z",
     "iopub.status.busy": "2022-05-26T15:28:53.401240Z",
     "iopub.status.idle": "2022-05-26T15:28:53.416558Z",
     "shell.execute_reply": "2022-05-26T15:28:53.415509Z",
     "shell.execute_reply.started": "2022-05-26T15:28:53.401710Z"
    }
   },
   "outputs": [
    {
     "name": "stdout",
     "output_type": "stream",
     "text": [
      "0                      Mild to moderate acne (spots) Acne\n",
      "1       A RET 0.025% is a prescription medicine that i...\n",
      "2       It is used to treat acne vulgaris in people 12...\n",
      "3       It is used to treat acne vulgaris in people 12...\n",
      "4       treat the most severe form of acne (nodular ac...\n",
      "                              ...                        \n",
      "9715                        used for treating warts Wound\n",
      "9716                  used to soften the skin cells Wound\n",
      "9717                                 used for scars Wound\n",
      "9718                                used for wounds Wound\n",
      "9719    used to treat and remove raised warts (usually...\n",
      "Name: tags, Length: 9720, dtype: object\n"
     ]
    }
   ],
   "source": [
    "new_df['tags'] = new_df['tags'].apply(lambda x:\" \".join(x))\n",
    "print(new_df['tags'])\n"
   ]
  },
  {
   "cell_type": "code",
   "execution_count": 17,
   "metadata": {
    "execution": {
     "iopub.execute_input": "2022-05-26T15:28:59.343874Z",
     "iopub.status.busy": "2022-05-26T15:28:59.343330Z",
     "iopub.status.idle": "2022-05-26T15:28:59.357037Z",
     "shell.execute_reply": "2022-05-26T15:28:59.356307Z",
     "shell.execute_reply.started": "2022-05-26T15:28:59.343830Z"
    }
   },
   "outputs": [
    {
     "data": {
      "text/html": [
       "<div>\n",
       "<style scoped>\n",
       "    .dataframe tbody tr th:only-of-type {\n",
       "        vertical-align: middle;\n",
       "    }\n",
       "\n",
       "    .dataframe tbody tr th {\n",
       "        vertical-align: top;\n",
       "    }\n",
       "\n",
       "    .dataframe thead th {\n",
       "        text-align: right;\n",
       "    }\n",
       "</style>\n",
       "<table border=\"1\" class=\"dataframe\">\n",
       "  <thead>\n",
       "    <tr style=\"text-align: right;\">\n",
       "      <th></th>\n",
       "      <th>index</th>\n",
       "      <th>Drug_Name</th>\n",
       "      <th>tags</th>\n",
       "    </tr>\n",
       "  </thead>\n",
       "  <tbody>\n",
       "    <tr>\n",
       "      <th>0</th>\n",
       "      <td>1</td>\n",
       "      <td>A CN Gel(Topical) 20gmA CN Soap 75gm</td>\n",
       "      <td>Mild to moderate acne (spots) Acne</td>\n",
       "    </tr>\n",
       "    <tr>\n",
       "      <th>1</th>\n",
       "      <td>2</td>\n",
       "      <td>A Ret 0.05% Gel 20gmA Ret 0.1% Gel 20gmA Ret 0...</td>\n",
       "      <td>A RET 0.025% is a prescription medicine that i...</td>\n",
       "    </tr>\n",
       "    <tr>\n",
       "      <th>2</th>\n",
       "      <td>3</td>\n",
       "      <td>ACGEL CL NANO Gel 15gm</td>\n",
       "      <td>It is used to treat acne vulgaris in people 12...</td>\n",
       "    </tr>\n",
       "    <tr>\n",
       "      <th>3</th>\n",
       "      <td>4</td>\n",
       "      <td>ACGEL NANO Gel 15gm</td>\n",
       "      <td>It is used to treat acne vulgaris in people 12...</td>\n",
       "    </tr>\n",
       "    <tr>\n",
       "      <th>4</th>\n",
       "      <td>5</td>\n",
       "      <td>Acleen 1% Lotion 25ml</td>\n",
       "      <td>treat the most severe form of acne (nodular ac...</td>\n",
       "    </tr>\n",
       "    <tr>\n",
       "      <th>...</th>\n",
       "      <td>...</td>\n",
       "      <td>...</td>\n",
       "      <td>...</td>\n",
       "    </tr>\n",
       "    <tr>\n",
       "      <th>9715</th>\n",
       "      <td>9716</td>\n",
       "      <td>T Muce Ointment 5gm</td>\n",
       "      <td>used for treating warts Wound</td>\n",
       "    </tr>\n",
       "    <tr>\n",
       "      <th>9716</th>\n",
       "      <td>9717</td>\n",
       "      <td>Wokadine 10% Solution 100mlWokadine Solution 5...</td>\n",
       "      <td>used to soften the skin cells Wound</td>\n",
       "    </tr>\n",
       "    <tr>\n",
       "      <th>9717</th>\n",
       "      <td>9718</td>\n",
       "      <td>Wokadine M Onit 10gm</td>\n",
       "      <td>used for scars Wound</td>\n",
       "    </tr>\n",
       "    <tr>\n",
       "      <th>9718</th>\n",
       "      <td>9719</td>\n",
       "      <td>Wound Fix Solution 100ml</td>\n",
       "      <td>used for wounds Wound</td>\n",
       "    </tr>\n",
       "    <tr>\n",
       "      <th>9719</th>\n",
       "      <td>9720</td>\n",
       "      <td>Wounsol Ointment 15gm</td>\n",
       "      <td>used to treat and remove raised warts (usually...</td>\n",
       "    </tr>\n",
       "  </tbody>\n",
       "</table>\n",
       "<p>9720 rows × 3 columns</p>\n",
       "</div>"
      ],
      "text/plain": [
       "      index                                          Drug_Name  \\\n",
       "0         1               A CN Gel(Topical) 20gmA CN Soap 75gm   \n",
       "1         2  A Ret 0.05% Gel 20gmA Ret 0.1% Gel 20gmA Ret 0...   \n",
       "2         3                             ACGEL CL NANO Gel 15gm   \n",
       "3         4                                ACGEL NANO Gel 15gm   \n",
       "4         5                              Acleen 1% Lotion 25ml   \n",
       "...     ...                                                ...   \n",
       "9715   9716                                T Muce Ointment 5gm   \n",
       "9716   9717  Wokadine 10% Solution 100mlWokadine Solution 5...   \n",
       "9717   9718                               Wokadine M Onit 10gm   \n",
       "9718   9719                           Wound Fix Solution 100ml   \n",
       "9719   9720                              Wounsol Ointment 15gm   \n",
       "\n",
       "                                                   tags  \n",
       "0                    Mild to moderate acne (spots) Acne  \n",
       "1     A RET 0.025% is a prescription medicine that i...  \n",
       "2     It is used to treat acne vulgaris in people 12...  \n",
       "3     It is used to treat acne vulgaris in people 12...  \n",
       "4     treat the most severe form of acne (nodular ac...  \n",
       "...                                                 ...  \n",
       "9715                      used for treating warts Wound  \n",
       "9716                used to soften the skin cells Wound  \n",
       "9717                               used for scars Wound  \n",
       "9718                              used for wounds Wound  \n",
       "9719  used to treat and remove raised warts (usually...  \n",
       "\n",
       "[9720 rows x 3 columns]"
      ]
     },
     "execution_count": 17,
     "metadata": {},
     "output_type": "execute_result"
    }
   ],
   "source": [
    "new_df"
   ]
  },
  {
   "cell_type": "code",
   "execution_count": 18,
   "metadata": {
    "execution": {
     "iopub.execute_input": "2022-05-26T15:29:03.967503Z",
     "iopub.status.busy": "2022-05-26T15:29:03.967097Z",
     "iopub.status.idle": "2022-05-26T15:29:03.980230Z",
     "shell.execute_reply": "2022-05-26T15:29:03.979538Z",
     "shell.execute_reply.started": "2022-05-26T15:29:03.967459Z"
    }
   },
   "outputs": [
    {
     "data": {
      "text/plain": [
       "0                      mild to moderate acne (spots) acne\n",
       "1       a ret 0.025% is a prescription medicine that i...\n",
       "2       it is used to treat acne vulgaris in people 12...\n",
       "3       it is used to treat acne vulgaris in people 12...\n",
       "4       treat the most severe form of acne (nodular ac...\n",
       "                              ...                        \n",
       "9715                        used for treating warts wound\n",
       "9716                  used to soften the skin cells wound\n",
       "9717                                 used for scars wound\n",
       "9718                                used for wounds wound\n",
       "9719    used to treat and remove raised warts (usually...\n",
       "Name: tags, Length: 9720, dtype: object"
      ]
     },
     "execution_count": 18,
     "metadata": {},
     "output_type": "execute_result"
    }
   ],
   "source": [
    "new_df['tags'] = new_df['tags'].apply(lambda x:x.lower())\n",
    "new_df['tags']"
   ]
  },
  {
   "cell_type": "code",
   "execution_count": 19,
   "metadata": {
    "execution": {
     "iopub.execute_input": "2022-05-26T15:29:09.900261Z",
     "iopub.status.busy": "2022-05-26T15:29:09.899763Z",
     "iopub.status.idle": "2022-05-26T15:29:09.913513Z",
     "shell.execute_reply": "2022-05-26T15:29:09.912614Z",
     "shell.execute_reply.started": "2022-05-26T15:29:09.900231Z"
    }
   },
   "outputs": [
    {
     "data": {
      "text/html": [
       "<div>\n",
       "<style scoped>\n",
       "    .dataframe tbody tr th:only-of-type {\n",
       "        vertical-align: middle;\n",
       "    }\n",
       "\n",
       "    .dataframe tbody tr th {\n",
       "        vertical-align: top;\n",
       "    }\n",
       "\n",
       "    .dataframe thead th {\n",
       "        text-align: right;\n",
       "    }\n",
       "</style>\n",
       "<table border=\"1\" class=\"dataframe\">\n",
       "  <thead>\n",
       "    <tr style=\"text-align: right;\">\n",
       "      <th></th>\n",
       "      <th>index</th>\n",
       "      <th>Drug_Name</th>\n",
       "      <th>tags</th>\n",
       "    </tr>\n",
       "  </thead>\n",
       "  <tbody>\n",
       "    <tr>\n",
       "      <th>0</th>\n",
       "      <td>1</td>\n",
       "      <td>A CN Gel(Topical) 20gmA CN Soap 75gm</td>\n",
       "      <td>mild to moderate acne (spots) acne</td>\n",
       "    </tr>\n",
       "    <tr>\n",
       "      <th>1</th>\n",
       "      <td>2</td>\n",
       "      <td>A Ret 0.05% Gel 20gmA Ret 0.1% Gel 20gmA Ret 0...</td>\n",
       "      <td>a ret 0.025% is a prescription medicine that i...</td>\n",
       "    </tr>\n",
       "    <tr>\n",
       "      <th>2</th>\n",
       "      <td>3</td>\n",
       "      <td>ACGEL CL NANO Gel 15gm</td>\n",
       "      <td>it is used to treat acne vulgaris in people 12...</td>\n",
       "    </tr>\n",
       "    <tr>\n",
       "      <th>3</th>\n",
       "      <td>4</td>\n",
       "      <td>ACGEL NANO Gel 15gm</td>\n",
       "      <td>it is used to treat acne vulgaris in people 12...</td>\n",
       "    </tr>\n",
       "    <tr>\n",
       "      <th>4</th>\n",
       "      <td>5</td>\n",
       "      <td>Acleen 1% Lotion 25ml</td>\n",
       "      <td>treat the most severe form of acne (nodular ac...</td>\n",
       "    </tr>\n",
       "    <tr>\n",
       "      <th>...</th>\n",
       "      <td>...</td>\n",
       "      <td>...</td>\n",
       "      <td>...</td>\n",
       "    </tr>\n",
       "    <tr>\n",
       "      <th>9715</th>\n",
       "      <td>9716</td>\n",
       "      <td>T Muce Ointment 5gm</td>\n",
       "      <td>used for treating warts wound</td>\n",
       "    </tr>\n",
       "    <tr>\n",
       "      <th>9716</th>\n",
       "      <td>9717</td>\n",
       "      <td>Wokadine 10% Solution 100mlWokadine Solution 5...</td>\n",
       "      <td>used to soften the skin cells wound</td>\n",
       "    </tr>\n",
       "    <tr>\n",
       "      <th>9717</th>\n",
       "      <td>9718</td>\n",
       "      <td>Wokadine M Onit 10gm</td>\n",
       "      <td>used for scars wound</td>\n",
       "    </tr>\n",
       "    <tr>\n",
       "      <th>9718</th>\n",
       "      <td>9719</td>\n",
       "      <td>Wound Fix Solution 100ml</td>\n",
       "      <td>used for wounds wound</td>\n",
       "    </tr>\n",
       "    <tr>\n",
       "      <th>9719</th>\n",
       "      <td>9720</td>\n",
       "      <td>Wounsol Ointment 15gm</td>\n",
       "      <td>used to treat and remove raised warts (usually...</td>\n",
       "    </tr>\n",
       "  </tbody>\n",
       "</table>\n",
       "<p>9720 rows × 3 columns</p>\n",
       "</div>"
      ],
      "text/plain": [
       "      index                                          Drug_Name  \\\n",
       "0         1               A CN Gel(Topical) 20gmA CN Soap 75gm   \n",
       "1         2  A Ret 0.05% Gel 20gmA Ret 0.1% Gel 20gmA Ret 0...   \n",
       "2         3                             ACGEL CL NANO Gel 15gm   \n",
       "3         4                                ACGEL NANO Gel 15gm   \n",
       "4         5                              Acleen 1% Lotion 25ml   \n",
       "...     ...                                                ...   \n",
       "9715   9716                                T Muce Ointment 5gm   \n",
       "9716   9717  Wokadine 10% Solution 100mlWokadine Solution 5...   \n",
       "9717   9718                               Wokadine M Onit 10gm   \n",
       "9718   9719                           Wound Fix Solution 100ml   \n",
       "9719   9720                              Wounsol Ointment 15gm   \n",
       "\n",
       "                                                   tags  \n",
       "0                    mild to moderate acne (spots) acne  \n",
       "1     a ret 0.025% is a prescription medicine that i...  \n",
       "2     it is used to treat acne vulgaris in people 12...  \n",
       "3     it is used to treat acne vulgaris in people 12...  \n",
       "4     treat the most severe form of acne (nodular ac...  \n",
       "...                                                 ...  \n",
       "9715                      used for treating warts wound  \n",
       "9716                used to soften the skin cells wound  \n",
       "9717                               used for scars wound  \n",
       "9718                              used for wounds wound  \n",
       "9719  used to treat and remove raised warts (usually...  \n",
       "\n",
       "[9720 rows x 3 columns]"
      ]
     },
     "execution_count": 19,
     "metadata": {},
     "output_type": "execute_result"
    }
   ],
   "source": [
    "new_df"
   ]
  },
  {
   "cell_type": "code",
   "execution_count": 20,
   "metadata": {
    "execution": {
     "iopub.execute_input": "2022-05-26T15:29:32.262390Z",
     "iopub.status.busy": "2022-05-26T15:29:32.262070Z",
     "iopub.status.idle": "2022-05-26T15:29:33.396808Z",
     "shell.execute_reply": "2022-05-26T15:29:33.395776Z",
     "shell.execute_reply.started": "2022-05-26T15:29:32.262358Z"
    }
   },
   "outputs": [],
   "source": [
    "import nltk"
   ]
  },
  {
   "cell_type": "code",
   "execution_count": 21,
   "metadata": {
    "execution": {
     "iopub.execute_input": "2022-05-26T15:29:44.930999Z",
     "iopub.status.busy": "2022-05-26T15:29:44.930510Z",
     "iopub.status.idle": "2022-05-26T15:29:44.935856Z",
     "shell.execute_reply": "2022-05-26T15:29:44.934888Z",
     "shell.execute_reply.started": "2022-05-26T15:29:44.930950Z"
    }
   },
   "outputs": [],
   "source": [
    "from nltk.stem.porter import PorterStemmer\n",
    "ps = PorterStemmer()"
   ]
  },
  {
   "cell_type": "code",
   "execution_count": 22,
   "metadata": {
    "execution": {
     "iopub.execute_input": "2022-05-26T15:30:19.262947Z",
     "iopub.status.busy": "2022-05-26T15:30:19.262540Z",
     "iopub.status.idle": "2022-05-26T15:30:19.267598Z",
     "shell.execute_reply": "2022-05-26T15:30:19.266709Z",
     "shell.execute_reply.started": "2022-05-26T15:30:19.262907Z"
    }
   },
   "outputs": [],
   "source": [
    "from sklearn.feature_extraction.text import CountVectorizer\n",
    "cv = CountVectorizer(stop_words='english',max_features=5000)"
   ]
  },
  {
   "cell_type": "code",
   "execution_count": 23,
   "metadata": {
    "execution": {
     "iopub.execute_input": "2022-05-26T15:30:34.110883Z",
     "iopub.status.busy": "2022-05-26T15:30:34.110440Z",
     "iopub.status.idle": "2022-05-26T15:30:34.115964Z",
     "shell.execute_reply": "2022-05-26T15:30:34.115054Z",
     "shell.execute_reply.started": "2022-05-26T15:30:34.110851Z"
    }
   },
   "outputs": [],
   "source": [
    "def stem(text):\n",
    "  y = []\n",
    "\n",
    "  for i in text.split():\n",
    "    y.append(ps.stem(i))\n",
    "\n",
    "  return \" \".join(y)  "
   ]
  },
  {
   "cell_type": "code",
   "execution_count": 24,
   "metadata": {
    "execution": {
     "iopub.execute_input": "2022-05-26T15:30:40.638132Z",
     "iopub.status.busy": "2022-05-26T15:30:40.637709Z",
     "iopub.status.idle": "2022-05-26T15:30:43.759883Z",
     "shell.execute_reply": "2022-05-26T15:30:43.758904Z",
     "shell.execute_reply.started": "2022-05-26T15:30:40.638098Z"
    }
   },
   "outputs": [],
   "source": [
    "new_df['tags'] = new_df['tags'].apply(stem)"
   ]
  },
  {
   "cell_type": "code",
   "execution_count": 25,
   "metadata": {
    "execution": {
     "iopub.execute_input": "2022-05-26T15:30:47.868994Z",
     "iopub.status.busy": "2022-05-26T15:30:47.868441Z",
     "iopub.status.idle": "2022-05-26T15:30:48.096978Z",
     "shell.execute_reply": "2022-05-26T15:30:48.096104Z",
     "shell.execute_reply.started": "2022-05-26T15:30:47.868951Z"
    }
   },
   "outputs": [
    {
     "data": {
      "text/plain": [
       "(9720, 806)"
      ]
     },
     "execution_count": 25,
     "metadata": {},
     "output_type": "execute_result"
    }
   ],
   "source": [
    "cv.fit_transform(new_df['tags']).toarray().shape"
   ]
  },
  {
   "cell_type": "code",
   "execution_count": 26,
   "metadata": {
    "execution": {
     "iopub.execute_input": "2022-05-26T15:30:54.495313Z",
     "iopub.status.busy": "2022-05-26T15:30:54.494898Z",
     "iopub.status.idle": "2022-05-26T15:30:54.713078Z",
     "shell.execute_reply": "2022-05-26T15:30:54.712369Z",
     "shell.execute_reply.started": "2022-05-26T15:30:54.495280Z"
    }
   },
   "outputs": [],
   "source": [
    "vectors = cv.fit_transform(new_df['tags']).toarray()"
   ]
  },
  {
   "cell_type": "code",
   "execution_count": 27,
   "metadata": {},
   "outputs": [
    {
     "name": "stdout",
     "output_type": "stream",
     "text": [
      "['025' '12' '16' '18' 'abdomin' 'abl' 'ach' 'acid' 'acn' 'acne' 'acquir'\n",
      " 'action' 'activ' 'acut' 'acute' 'adequ' 'adhd' 'adjunct' 'adolesc'\n",
      " 'adult' 'adults' 'affect' 'ag' 'age' 'aids' 'allerg' 'allergen' 'allergi'\n",
      " 'allow' 'alon' 'alzheim' 'alzheimer' 'alzheimerâ' 'amoebiasi' 'anaemia'\n",
      " 'anal' 'angina' 'angl' 'ani' 'ankylos' 'anorexia' 'anoth' 'anti'\n",
      " 'antioxid' 'antipsychot' 'antiretrovir' 'anxieti' 'anxiou' 'anxious'\n",
      " 'apnoea' 'appear' 'appetit' 'appetite' 'appli' 'appropri' 'area'\n",
      " 'arrhythmia' 'arrhythmiasi' 'arteri' 'arthralgia' 'arthriti' 'associ'\n",
      " 'atherothrombot' 'athleteâ' 'atop' 'atrial' 'attack' 'awak' 'b1' 'b2'\n",
      " 'b3' 'b5' 'b6' 'babi' 'backache' 'bacteri' 'bacteria' 'balanc'\n",
      " 'balanitis' 'bandag' 'becom' 'behaviour' 'beliefs' 'benefit' 'beta'\n",
      " 'biliari' 'biotin' 'bite' 'blackhead' 'blackheads' 'bleaches' 'bleed'\n",
      " 'bloating' 'block' 'blood' 'bodi' 'bodyâ' 'bon' 'bone' 'bones' 'bowel'\n",
      " 'brain' 'breakdown' 'breath' 'brighten' 'bronchiti' 'brown' 'bursitis'\n",
      " 'calcium' 'calm' 'cancer' 'candid' 'candidiasis' 'canâ' 'carbohydr'\n",
      " 'cardiovascular' 'care' 'carrier' 'cartilag' 'case' 'cases' 'cataract'\n",
      " 'caus' 'cavity' 'cell' 'certain' 'chanc' 'chang' 'characteris' 'chemic'\n",
      " 'chemotherapi' 'chest' 'chickenpox' 'childhood' 'children' 'chlosma'\n",
      " 'cholesterol' 'chronic' 'clean' 'cleaner' 'cleanser' 'clear' 'clot' 'cmv'\n",
      " 'cold' 'colds' 'colic' 'colon' 'colorect' 'coma' 'combin' 'common'\n",
      " 'complet' 'complexion' 'concomit' 'condit' 'conditions' 'confused'\n",
      " 'confusion' 'congestion' 'conjunct' 'consciousness' 'consid' 'consist'\n",
      " 'constip' 'constipation' 'constipationâ' 'continu' 'contracept' 'control'\n",
      " 'contusion' 'convent' 'convulsion' 'corpori' 'corticosteroid' 'cough'\n",
      " 'cramp' 'cream' 'cruri' 'cushion' 'cycl' 'cytomegaloviru' 'cytoprotect'\n",
      " 'd3' 'daili' 'damag' 'dandruff' 'dark' 'death' 'decreas' 'defici'\n",
      " 'degrad' 'degre' 'delay' 'demand' 'dementia' 'dental' 'deposit' 'depress'\n",
      " 'depressed' 'dermat' 'deterg' 'diabet' 'diagnost' 'diarrhea' 'diarrhoea'\n",
      " 'diet' 'differ' 'difficult' 'difficulti' 'digest' 'digestion' 'dilate'\n",
      " 'discolor' 'discoloured' 'diseas' 'disord' 'disorder' 'disorders'\n",
      " 'displac' 'distens' 'dizzi' 'doctor' 'doe' 'drain' 'drained' 'dri' 'drop'\n",
      " 'drowsi' 'drugs' 'dull' 'dure' 'dysmenorrhea' 'ear' 'ears' 'eczema'\n",
      " 'effect' 'effects' 'elbow' 'element' 'emot' 'encephalopathi'\n",
      " 'endometriosi' 'energi' 'energy' 'enhanc' 'enlarg' 'enzym' 'enzyme'\n",
      " 'epicondylitis' 'episod' 'especi' 'essenti' 'event' 'excess' 'exercis'\n",
      " 'exfoli' 'exocrin' 'extern' 'extra' 'eye' 'eyes' 'face' 'fade' 'fail'\n",
      " 'failur' 'failure' 'fast' 'fat' 'fatigue' 'fats' 'fatti' 'febril' 'feed'\n",
      " 'feel' 'feet' 'fever' 'feverish' 'fibril' 'fine' 'fissur' 'flat' 'flatul'\n",
      " 'flatulence' 'flexibl' 'flow' 'flu' 'fluid' 'flutter' 'focus' 'folic'\n",
      " 'follow' 'food' 'foot' 'form' 'format' 'free' 'fresh' 'friction'\n",
      " 'function' 'fungal' 'fungi' 'fungu' 'gain' 'gener' 'genit' 'gland'\n",
      " 'glaucoma' 'glow' 'gonorrhoea' 'good' 'gout' 'gradual' 'gravi' 'growth'\n",
      " 'guilty' 'gum' 'ha' 'haematopoiesi' 'haemorrhoid' 'haemorrhoidectomi'\n",
      " 'haemorrhoids' 'hair' 'hallucinations' 'hands' 'hard' 'hay' 'head'\n",
      " 'headach' 'headache' 'heal' 'health' 'healthy' 'hear' 'hearing' 'heart'\n",
      " 'heartbeat' 'help' 'hepat' 'herp' 'high' 'hiv' 'hives' 'hormon' 'hospit'\n",
      " 'human' 'hygien' 'hypercalcaemia' 'hyperparathyroid' 'hyperpigment'\n",
      " 'hyperpigmentation' 'hypertens' 'hypertension' 'hyperthyroid'\n",
      " 'hypertrophi' 'hypnosi' 'hypotens' 'hypothyroid' 'hypothyroidism'\n",
      " 'hyroid' 'ibs' 'immun' 'immunodefici' 'improv' 'improvesâ' 'includ'\n",
      " 'incoher' 'incomplet' 'increas' 'indic' 'indigest' 'induc' 'infect'\n",
      " 'infection' 'infections' 'infest' 'inflamm' 'inflammationâ'\n",
      " 'inflammatori' 'influenza' 'infrequ' 'inguinalis' 'inhal' 'inhibitor'\n",
      " 'injuri' 'inner' 'insect' 'insid' 'insomnia' 'insufficiencyâ' 'integr'\n",
      " 'intens' 'interdigit' 'intern' 'interrupt' 'intestin' 'intestinal'\n",
      " 'intoler' 'invas' 'involuntari' 'iodine' 'iritis' 'iron' 'irrit' 'isâ'\n",
      " 'itch' 'itâ' 'jewelleri' 'jock' 'joint' 'kidney' 'kit' 'knees' 'known'\n",
      " 'lack' 'lactat' 'lead' 'learning' 'left' 'level' 'lice' 'life'\n",
      " 'ligaments' 'line' 'lip' 'liquid' 'liv' 'live' 'liver' 'long' 'look'\n",
      " 'lose' 'loss' 'lotion' 'lower' 'lowersâ' 'lowerâ' 'lung' 'lvh' 'mainli'\n",
      " 'maintain' 'major' 'make' 'malari' 'malaria' 'malignancies' 'manag'\n",
      " 'manganese' 'mani' 'manuum' 'marrow' 'medic' 'medicin' 'melanin'\n",
      " 'melasma' 'mellitu' 'memori' 'men' 'mening' 'menopaus' 'mental' 'metabol'\n",
      " 'methyl' 'micronutri' 'migrain' 'migraine' 'mild' 'milk' 'miner' 'minor'\n",
      " 'mistaken' 'mobil' 'moder' 'moderate' 'moistur' 'molybdenum' 'motion'\n",
      " 'movement' 'movements' 'muscl' 'muscular' 'musculoskelet' 'myalgia'\n",
      " 'myasthenia' 'mydriasi' 'myeloid' 'narrow' 'nasal' 'natur' 'nausea'\n",
      " 'need' 'nephropathy' 'nerv' 'nervosa' 'nervousness' 'nettl' 'neuralgia'\n",
      " 'neutral' 'newborns' 'nodular' 'non' 'normal' 'nose' 'nutrient' 'nutrit'\n",
      " 'occur' 'ocular' 'ofâ' 'oili' 'older' 'onli' 'op' 'open' 'oper' 'oral'\n",
      " 'origin' 'osteoarthr' 'osteodystrophy' 'osteoporosi' 'oxid' 'oxidation'\n",
      " 'pah' 'pain' 'pancrea' 'paralys' 'parathyroid' 'parkinson' 'parkinsonâ'\n",
      " 'passag' 'patch' 'patches' 'patient' 'patientsâ' 'pectori' 'pectoris'\n",
      " 'pedis' 'pelvic' 'penil' 'peopl' 'peptid' 'period' 'physic' 'piles'\n",
      " 'pimpl' 'pimple' 'pityriasi' 'polysaccharid' 'portal' 'post' 'potent'\n",
      " 'power' 'pre' 'prednisolon' 'pregnanc' 'prematur' 'preoper' 'prescrib'\n",
      " 'prescript' 'present' 'pressur' 'prevent' 'prexia' 'primari' 'prinzmet'\n",
      " 'problem' 'procedur' 'process' 'proctiti' 'produc' 'product' 'progress'\n",
      " 'prolactin' 'promot' 'properti' 'protect' 'provid' 'pseudo' 'psychosi'\n",
      " 'psychosomat' 'pulmonari' 'pupil' 'pyrexia' 'rabi' 'radicals'\n",
      " 'radiculitis' 'rais' 'rarer' 'rash' 'react' 'reaction' 'receiv'\n",
      " 'recommend' 'red' 'reduc' 'reduct' 'refer' 'regener' 'regimen' 'relat'\n",
      " 'releief' 'relief' 'reliev' 'reliv' 'remov' 'renal' 'repair' 'replac'\n",
      " 'reproduct' 'resist' 'respiratori' 'respond' 'respons' 'restor' 'ret'\n",
      " 'retin' 'rheumat' 'ring' 'ringworm' 'root' 'rosacea' 'scabi' 'scali'\n",
      " 'scalp' 'scar' 'schizophren' 'schizophrenia' 'seborrh' 'sed' 'sedat'\n",
      " 'sens' 'sever' 'shingl' 'short' 'sick' 'sickness' 'silki' 'simpl'\n",
      " 'simplex' 'sinusitis' 'skelet' 'skin' 'skinâ' 'sleep' 'slow' 'small'\n",
      " 'smoke' 'smooth' 'soaps' 'soar' 'soft' 'soften' 'soothen' 'sore' 'sores'\n",
      " 'spasmod' 'speech' 'speed' 'spondyl' 'spot' 'spots' 'sprain' 'spread'\n",
      " 'stabil' 'starch' 'start' 'state' 'steroids' 'stiff' 'stomach' 'stools'\n",
      " 'stop' 'strains' 'strengthen' 'stroke' 'structur' 'substanc' 'suffer'\n",
      " 'sugar' 'sunburn' 'sunscreen' 'suppl' 'supplement' 'support' 'surgeri'\n",
      " 'surgeryâ' 'surgic' 'suspiciousness' 'sweat' 'swell' 'swelling' 'swollen'\n",
      " 'symptom' 'symptomat' 'symptoms' 'syndrom' 'synovi' 'synovitis'\n",
      " 'synthesi' 'synthet' 'syphilis' 'tablet' 'tachycardia' 'task'\n",
      " 'temperature' 'tender' 'tendonitis' 'tens' 'term' 'textur' 'therapi'\n",
      " 'therebi' 'thi' 'thing' 'throat' 'thrombolysi' 'thrush' 'thu' 'thyroid'\n",
      " 'thyroxin' 'time' 'tinea' 'tinnitus' 'tissu' 'tissues' 'toe' 'tone'\n",
      " 'tonsil' 'tonsilitis' 'tonsillectomi' 'toothach' 'toothache' 'topic'\n",
      " 'trace' 'tract' 'transmit' 'transplant' 'trauma' 'traumat' 'travel'\n",
      " 'treat' 'treatment' 'treatsâ' 'treatâ' 'tremor' 'triglycerid'\n",
      " 'tubercular' 'type' 'ulcer' 'unabl' 'unbalanc' 'uncompl' 'uneven'\n",
      " 'unstabl' 'unusu' 'unwant' 'upper' 'uptak' 'urate' 'uretericâ' 'uric'\n",
      " 'urinaryâ' 'use' 'uses' 'usual' 'uveiti' 'vaccin' 'vagin' 'variant'\n",
      " 'varieti' 'ventricular' 'verruca' 'versicolor' 'vertigo' 'vessel' 'viral'\n",
      " 'viru' 'virus' 'vitamin' 'vitamins' 'volume' 'vomit' 'vulgari'\n",
      " 'vulgarisâ' 'wall' 'wart' 'wash' 'weak' 'weaken' 'weight' 'wet' 'whichâ'\n",
      " 'whilst' 'white' 'widen' 'withdrawn' 'womb' 'women' 'work' 'worsen'\n",
      " 'wound' 'wrinkl' 'wrinkles' 'year' 'younger' 'zinc' 'œpancreat']\n"
     ]
    }
   ],
   "source": [
    "vectors = cv.fit_transform(new_df['tags']).toarray()\n",
    "feature_names = cv.get_feature_names_out()\n",
    "print(feature_names)\n"
   ]
  },
  {
   "cell_type": "code",
   "execution_count": 28,
   "metadata": {
    "execution": {
     "iopub.execute_input": "2022-05-26T15:31:06.364175Z",
     "iopub.status.busy": "2022-05-26T15:31:06.363737Z",
     "iopub.status.idle": "2022-05-26T15:31:06.368475Z",
     "shell.execute_reply": "2022-05-26T15:31:06.367582Z",
     "shell.execute_reply.started": "2022-05-26T15:31:06.364142Z"
    }
   },
   "outputs": [],
   "source": [
    "from sklearn.metrics.pairwise import cosine_similarity"
   ]
  },
  {
   "cell_type": "code",
   "execution_count": 29,
   "metadata": {
    "execution": {
     "iopub.execute_input": "2022-05-26T15:31:12.307965Z",
     "iopub.status.busy": "2022-05-26T15:31:12.307555Z",
     "iopub.status.idle": "2022-05-26T15:31:13.947035Z",
     "shell.execute_reply": "2022-05-26T15:31:13.946057Z",
     "shell.execute_reply.started": "2022-05-26T15:31:12.307931Z"
    }
   },
   "outputs": [
    {
     "data": {
      "text/plain": [
       "array([[1.        , 0.25197632, 0.43643578, ..., 0.        , 0.        ,\n",
       "        0.        ],\n",
       "       [0.25197632, 1.        , 0.25660012, ..., 0.19245009, 0.1490712 ,\n",
       "        0.0860663 ],\n",
       "       [0.43643578, 0.25660012, 1.        , ..., 0.11111111, 0.0860663 ,\n",
       "        0.0993808 ],\n",
       "       ...,\n",
       "       [0.        , 0.19245009, 0.11111111, ..., 1.        , 0.77459667,\n",
       "        0.2981424 ],\n",
       "       [0.        , 0.1490712 , 0.0860663 , ..., 0.77459667, 1.        ,\n",
       "        0.34641016],\n",
       "       [0.        , 0.0860663 , 0.0993808 , ..., 0.2981424 , 0.34641016,\n",
       "        1.        ]])"
      ]
     },
     "execution_count": 29,
     "metadata": {},
     "output_type": "execute_result"
    }
   ],
   "source": [
    "cosine_similarity(vectors)"
   ]
  },
  {
   "cell_type": "code",
   "execution_count": 30,
   "metadata": {
    "execution": {
     "iopub.execute_input": "2022-05-26T15:31:20.837817Z",
     "iopub.status.busy": "2022-05-26T15:31:20.837383Z",
     "iopub.status.idle": "2022-05-26T15:31:22.665373Z",
     "shell.execute_reply": "2022-05-26T15:31:22.663586Z",
     "shell.execute_reply.started": "2022-05-26T15:31:20.837784Z"
    }
   },
   "outputs": [],
   "source": [
    "similarity = cosine_similarity(vectors)"
   ]
  },
  {
   "cell_type": "code",
   "execution_count": 31,
   "metadata": {
    "execution": {
     "iopub.execute_input": "2022-05-26T15:31:25.762261Z",
     "iopub.status.busy": "2022-05-26T15:31:25.761176Z",
     "iopub.status.idle": "2022-05-26T15:31:25.771667Z",
     "shell.execute_reply": "2022-05-26T15:31:25.770795Z",
     "shell.execute_reply.started": "2022-05-26T15:31:25.762222Z"
    }
   },
   "outputs": [
    {
     "data": {
      "text/plain": [
       "array([0.25197632, 1.        , 0.25660012, ..., 0.19245009, 0.1490712 ,\n",
       "       0.0860663 ])"
      ]
     },
     "execution_count": 31,
     "metadata": {},
     "output_type": "execute_result"
    }
   ],
   "source": [
    "similarity[1]"
   ]
  },
  {
   "cell_type": "code",
   "execution_count": 32,
   "metadata": {
    "execution": {
     "iopub.execute_input": "2022-05-26T15:31:40.159068Z",
     "iopub.status.busy": "2022-05-26T15:31:40.158323Z",
     "iopub.status.idle": "2022-05-26T15:31:40.166757Z",
     "shell.execute_reply": "2022-05-26T15:31:40.165868Z",
     "shell.execute_reply.started": "2022-05-26T15:31:40.159020Z"
    }
   },
   "outputs": [],
   "source": [
    "def recommend(medicine):\n",
    "    medicine_index = new_df[new_df['Drug_Name'] == medicine].index[0]\n",
    "    distances = similarity[medicine_index]\n",
    "    medicines_list = sorted(list(enumerate(distances)),reverse=True,key=lambda x:x[1])[1:6]\n",
    "    \n",
    "    for i in medicines_list:\n",
    "        print(new_df.iloc[i[0]].Drug_Name)\n",
    "    "
   ]
  },
  {
   "cell_type": "code",
   "execution_count": 33,
   "metadata": {
    "execution": {
     "iopub.execute_input": "2022-05-26T15:31:57.566701Z",
     "iopub.status.busy": "2022-05-26T15:31:57.565934Z",
     "iopub.status.idle": "2022-05-26T15:31:57.589837Z",
     "shell.execute_reply": "2022-05-26T15:31:57.588991Z",
     "shell.execute_reply.started": "2022-05-26T15:31:57.566659Z"
    }
   },
   "outputs": [
    {
     "name": "stdout",
     "output_type": "stream",
     "text": [
      "Oxypamol D Tablet 10'S\n",
      "Pacimol MF Tablet 10'S\n",
      "Painil Plus 100/500mg Tablet 10'S\n",
      "Pamagin Plus Gel 30gm\n",
      "Paracetamol 125mg Syrup 60mlParacetamol 500mg Tablet 10'S\n"
     ]
    }
   ],
   "source": [
    "recommend(\"Paracetamol 125mg Syrup 60mlParacetamol 500mg Tablet 10'S\")"
   ]
  },
  {
   "cell_type": "code",
   "execution_count": 34,
   "metadata": {
    "execution": {
     "iopub.execute_input": "2022-05-26T15:32:35.447060Z",
     "iopub.status.busy": "2022-05-26T15:32:35.446511Z",
     "iopub.status.idle": "2022-05-26T15:32:35.451544Z",
     "shell.execute_reply": "2022-05-26T15:32:35.450612Z",
     "shell.execute_reply.started": "2022-05-26T15:32:35.447016Z"
    }
   },
   "outputs": [],
   "source": [
    "import pickle"
   ]
  },
  {
   "cell_type": "code",
   "execution_count": 35,
   "metadata": {
    "execution": {
     "iopub.execute_input": "2022-05-26T15:32:53.662097Z",
     "iopub.status.busy": "2022-05-26T15:32:53.661648Z",
     "iopub.status.idle": "2022-05-26T15:32:56.474199Z",
     "shell.execute_reply": "2022-05-26T15:32:56.473238Z",
     "shell.execute_reply.started": "2022-05-26T15:32:53.662065Z"
    }
   },
   "outputs": [],
   "source": [
    "pickle.dump(new_df.to_dict(),open('medicine_dict.pkl','wb'))\n",
    "pickle.dump(similarity,open('similarity.pkl','wb'))"
   ]
  },
  {
   "cell_type": "markdown",
   "metadata": {},
   "source": [
    "                                            Submitted By- Shweta Kanungo"
   ]
  }
 ],
 "metadata": {
  "kernelspec": {
   "display_name": "Python 3 (ipykernel)",
   "language": "python",
   "name": "python3"
  },
  "language_info": {
   "codemirror_mode": {
    "name": "ipython",
    "version": 3
   },
   "file_extension": ".py",
   "mimetype": "text/x-python",
   "name": "python",
   "nbconvert_exporter": "python",
   "pygments_lexer": "ipython3",
   "version": "3.11.4"
  }
 },
 "nbformat": 4,
 "nbformat_minor": 4
}
